{
 "cells": [
  {
   "cell_type": "markdown",
   "metadata": {},
   "source": [
    "# Python Introduction\n",
    "This notebook goes over the fundamentals of python and jupyter notebooks.\n",
    "\n",
    "To run a cell, click the >|Run button above or press CTRL + Enter"
   ]
  },
  {
   "cell_type": "code",
   "execution_count": null,
   "metadata": {},
   "outputs": [],
   "source": [
    "# You can import libraries using the import keyword. You can rename the libraries with the as keyword\n",
    "import numpy as np\n",
    "import pandas as pd"
   ]
  },
  {
   "cell_type": "markdown",
   "metadata": {},
   "source": [
    "## Python Operators\n",
    "These operators are similar to most programming languages. \n",
    "\n",
    "In Jupyter Notebooks, you can use the print or display functions to print to the terminal."
   ]
  },
  {
   "cell_type": "code",
   "execution_count": null,
   "metadata": {},
   "outputs": [],
   "source": [
    "print(1 + 1)\n",
    "display(2 * 3)\n",
    "\n",
    "num = 8.0\n",
    "num += 2.5\n",
    "display(num)"
   ]
  },
  {
   "cell_type": "code",
   "execution_count": null,
   "metadata": {},
   "outputs": [],
   "source": [
    "# Boolean operators\n",
    "print(1 == 0)\n",
    "print(not (1 == 0))\n",
    "print((2==2) and (2==1))\n",
    "print((2==2) or (2==1))"
   ]
  },
  {
   "cell_type": "markdown",
   "metadata": {},
   "source": [
    "# Strings\n",
    "Python has built-in string types and overloaded operators for concatenation"
   ]
  },
  {
   "cell_type": "code",
   "execution_count": null,
   "metadata": {},
   "outputs": [],
   "source": [
    "print('bio' + 'robotics')"
   ]
  },
  {
   "cell_type": "code",
   "execution_count": null,
   "metadata": {},
   "outputs": [],
   "source": [
    "# There are also built-in methods for string manipulation\n",
    "print('biorobotics'.upper())"
   ]
  },
  {
   "cell_type": "code",
   "execution_count": null,
   "metadata": {},
   "outputs": [],
   "source": [
    "# you can store a string in a variable for easier manipulation\n",
    "course = 'BioRobotics'\n",
    "print(course.lower())\n",
    "\n",
    "# the len() function returns the length of a datastructure\n",
    "print(len(course))"
   ]
  },
  {
   "cell_type": "code",
   "execution_count": null,
   "metadata": {},
   "outputs": [],
   "source": [
    "# You can also use the in keyword to check if a datastructure contains something\n",
    "print('robotics' in course) # this will return false, due to the incorrect captilization\n",
    "print('robotics' in course.lower())"
   ]
  },
  {
   "cell_type": "markdown",
   "metadata": {},
   "source": [
    "# Lists\n",
    "Lists store a sequence of mutable items"
   ]
  },
  {
   "cell_type": "code",
   "execution_count": null,
   "metadata": {},
   "outputs": [],
   "source": [
    "fruits = ['apple', 'orange', 'pear', 'banana']"
   ]
  },
  {
   "cell_type": "markdown",
   "metadata": {},
   "source": [
    "## Question:\n",
    "### What do you think fruits[0] will print out? What about fruits[-1] and fruits[-2]?"
   ]
  },
  {
   "cell_type": "code",
   "execution_count": null,
   "metadata": {},
   "outputs": [],
   "source": [
    "# You can also add lists together\n",
    "otherFruits = ['kiwi', 'strawberry']\n",
    "print(fruits + otherFruits)"
   ]
  },
  {
   "cell_type": "markdown",
   "metadata": {},
   "source": [
    "Python lists also have built-in methods.\n",
    "## Question:\n",
    "### What does fruits.pop() return? What happens when you print(fruits) after fruit.pop()? What does fruit.reverse() do?\n",
    "\n",
    "We can also index multiple adjacent elements using the slice operator."
   ]
  },
  {
   "cell_type": "code",
   "execution_count": null,
   "metadata": {},
   "outputs": [],
   "source": [
    "print(fruits[0:2])\n",
    "print(fruits[:3])\n",
    "print(fruits[2:])\n",
    "print(len(fruits))"
   ]
  },
  {
   "cell_type": "code",
   "execution_count": null,
   "metadata": {},
   "outputs": [],
   "source": [
    "# Items stored in lists can be any Python Datatype.\n",
    "lstOfLsts = [['a','b','c'],[1,2,3],['one','two','three']]\n",
    "print(lstOfLsts[1][2])\n",
    "print(lstOfLsts[0].pop())\n",
    "print(lstOfLsts)"
   ]
  },
  {
   "cell_type": "markdown",
   "metadata": {},
   "source": [
    "# Tuples\n",
    "A data structure similar to the list is the tuple, which is like a list except that it is immutable once it is created (i.e. you cannot change its content once created). Note that tuples are surrounded with parentheses while lists have square brackets."
   ]
  },
  {
   "cell_type": "code",
   "execution_count": null,
   "metadata": {},
   "outputs": [],
   "source": [
    "pair = (3,5)"
   ]
  },
  {
   "cell_type": "markdown",
   "metadata": {},
   "source": [
    "## Question\n",
    "### What does pair[0] return?\n",
    "\n",
    "If you know the size of a tuple, you can store its values into variables."
   ]
  },
  {
   "cell_type": "code",
   "execution_count": null,
   "metadata": {},
   "outputs": [],
   "source": [
    "x,y = pair\n",
    "print(x)\n",
    "print(y)"
   ]
  },
  {
   "cell_type": "code",
   "execution_count": null,
   "metadata": {},
   "outputs": [],
   "source": [
    "# You cannot assign values in a tuple\n",
    "pair[1] = 6 # returns typeerror"
   ]
  },
  {
   "cell_type": "markdown",
   "metadata": {},
   "source": [
    "# Dictionaries\n",
    "The last built-in data structure is the dictionary which stores a map from one type of object (the key) to another (the value). The key must be an immutable type (string, number, or tuple). The value can be any Python data type. \n",
    "\n",
    "Note: In the example below, the printed order of the keys returned by Python could be different than shown below. The reason is that unlike lists which have a fixed ordering, a dictionary is simply a hash table for which there is no fixed ordering of the keys (like HashMaps in Java). The order of the keys depends on how exactly the hashing algorithm maps keys to buckets, and will usually seem arbitrary. Your code should not rely on key ordering, and you should not be surprised if even a small modification to how your code uses a dictionary results in a new key ordering."
   ]
  },
  {
   "cell_type": "code",
   "execution_count": null,
   "metadata": {},
   "outputs": [],
   "source": [
    "studentIds = {'knuth': 42.0, 'turing': 56.0, 'nash': 92.0 }\n",
    "print(studentIds['turing'])"
   ]
  },
  {
   "cell_type": "code",
   "execution_count": null,
   "metadata": {},
   "outputs": [],
   "source": [
    "# Dictionaries support item assignment\n",
    "studentIds['nash'] = 'ninety-two'\n",
    "print(studentIds)"
   ]
  },
  {
   "cell_type": "code",
   "execution_count": null,
   "metadata": {},
   "outputs": [],
   "source": [
    "# You can see the current keys and items in a dictionary using built-in methods\n",
    "print(studentIds.keys())\n",
    "print(studentIds.values())"
   ]
  },
  {
   "cell_type": "markdown",
   "metadata": {},
   "source": [
    "# Python Control Structures\n",
    "\n",
    "One nice thing about python is that it does not need to iterate through lists using numbers."
   ]
  },
  {
   "cell_type": "code",
   "execution_count": null,
   "metadata": {},
   "outputs": [],
   "source": [
    "fruits = ['apples','oranges','pears','bananas']\n",
    "for fruit in fruits:\n",
    "    print(fruit + ' for sale')"
   ]
  },
  {
   "cell_type": "code",
   "execution_count": null,
   "metadata": {},
   "outputs": [],
   "source": [
    "# We can do the same for dictionaries using a built-in method\n",
    "fruitPrices = {'apples': 2.00, 'oranges': 1.50, 'pears': 1.75}\n",
    "for fruit, price in fruitPrices.items():    \n",
    "    if price < 2.00:        \n",
    "        print ('%s cost %f a pound' % (fruit, price))    \n",
    "    else:        \n",
    "        print (fruit + ' are too expensive!')"
   ]
  },
  {
   "cell_type": "markdown",
   "metadata": {},
   "source": [
    "# Functions\n",
    "You can define your own functions using the def keyword"
   ]
  },
  {
   "cell_type": "code",
   "execution_count": null,
   "metadata": {},
   "outputs": [],
   "source": [
    "# We can initialize variables inside a function call, such as fruitPrices\n",
    "def buyFruit(fruit, numPounds, \n",
    "             fruitPrices = {'apples':2.00, 'oranges': 1.50, 'pears': 1.75}):    \n",
    "    if fruit not in fruitPrices:    # Note the not in keyword    \n",
    "        print (\"Sorry we don't have %s\" % (fruit))    \n",
    "    else:        \n",
    "        cost = fruitPrices[fruit] * numPounds        \n",
    "        print (\"That'll be %f please\" % (cost))\n",
    "        \n",
    "buyFruit('apples', 4)"
   ]
  },
  {
   "cell_type": "markdown",
   "metadata": {},
   "source": [
    "# Object Basics\n",
    "An object encapsulates data and provides functions for interacting with that data.\n",
    "\n",
    "Note: Global class variables/methods use the self parameter. If we do not use the self parameter, the other class methods would not be able to access the value.\n",
    "\n",
    "All methods have self as the first parameter"
   ]
  },
  {
   "cell_type": "code",
   "execution_count": null,
   "metadata": {},
   "outputs": [],
   "source": [
    "class FruitShop:\n",
    "    # Classes always have an __init__ function\n",
    "    def __init__(self, name, fruitPrices):\n",
    "        self.name = name\n",
    "        self.fruitPrices = fruitPrices\n",
    "        print('Welcome to the %s fruit shop' %(name))\n",
    "        \n",
    "    def getCostPerPound(self, fruit):\n",
    "        if fruit not in self.fruitPrices:\n",
    "            print('Sorry, we do not carry %s.' %(fruit))\n",
    "            return None\n",
    "        return self.fruitPrices[fruit]\n",
    "    \n",
    "    def getName(self):\n",
    "        return self.name\n",
    "    \n",
    "    def getPriceOfOrder(self, orderList):\n",
    "        # orderList is a list of (fruit, numPounds) tuples\n",
    "        totalcost = 0.0\n",
    "        # finish writing code here\n",
    "        \n",
    "        return totalcost"
   ]
  },
  {
   "cell_type": "markdown",
   "metadata": {},
   "source": [
    "## Question:\n",
    "### The above code is incomplete. Finish the getPriceOfOrder class method."
   ]
  },
  {
   "cell_type": "markdown",
   "metadata": {},
   "source": [
    "Run the code below to see how to use objects."
   ]
  },
  {
   "cell_type": "code",
   "execution_count": null,
   "metadata": {},
   "outputs": [],
   "source": [
    "shopName = 'the Tiger'\n",
    "fruitPrices = {'apples': 1.00, 'oranges': 1.50, 'pears': 1.75}\n",
    "RITShop = FruitShop(shopName, fruitPrices)\n",
    "applePrice = RITShop.getCostPerPound('apples')\n",
    "\n",
    "myList = [('apples', 2), ('kiwi', 5), ('oranges', 5)]\n",
    "\n",
    "print(RITShop.getPriceOfOrder(myList)) # Notice that kiwi is not in the fruit prices.\n",
    "\n",
    "# Your code is correct, if the below line returns true.\n",
    "display(9.5 == RITShop.getPriceOfOrder(myList))\n",
    "\n"
   ]
  },
  {
   "cell_type": "code",
   "execution_count": null,
   "metadata": {},
   "outputs": [],
   "source": []
  },
  {
   "cell_type": "code",
   "execution_count": null,
   "metadata": {},
   "outputs": [],
   "source": []
  },
  {
   "cell_type": "code",
   "execution_count": null,
   "metadata": {},
   "outputs": [],
   "source": []
  },
  {
   "cell_type": "code",
   "execution_count": null,
   "metadata": {},
   "outputs": [],
   "source": []
  }
 ],
 "metadata": {
  "kernelspec": {
   "display_name": "Python 3",
   "language": "python",
   "name": "python3"
  },
  "language_info": {
   "codemirror_mode": {
    "name": "ipython",
    "version": 3
   },
   "file_extension": ".py",
   "mimetype": "text/x-python",
   "name": "python",
   "nbconvert_exporter": "python",
   "pygments_lexer": "ipython3",
   "version": "3.7.4"
  }
 },
 "nbformat": 4,
 "nbformat_minor": 2
}
